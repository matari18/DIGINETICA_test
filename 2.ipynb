{
 "cells": [
  {
   "cell_type": "markdown",
   "metadata": {},
   "source": [
    "### Построение рекомендаций на основе популярности товаров\n",
    "\n",
    "**Задача**: скачать датасет DIGINETICA и написать код, который строит рекомендации к каждому товару на основании популярности. На выходе должен получиться CSV-файл формата:\n",
    "\n",
    "```\n",
    "seed_item_id, recommended_product_id, score\n",
    "\n",
    "```\n",
    "\n",
    "### Ожидания:\n",
    "\n",
    "- Напишите код, который:\n",
    "    - Загружает датасет.\n",
    "    - Рассчитывает популярность товаров (например, на основании количества просмотров или покупок).\n",
    "    - Создает рекомендации для каждого товара.\n",
    "    - Сохраняет результат в CSV."
   ]
  },
  {
   "cell_type": "markdown",
   "metadata": {},
   "source": [
    "### Реализация:\n",
    "\n",
    "Будем оценивать популярность на основе статистики покупок.\n",
    "\n",
    "Для этого исследуем датасет 'train-purchases.csv'"
   ]
  },
  {
   "cell_type": "code",
   "execution_count": 19,
   "metadata": {},
   "outputs": [],
   "source": [
    "import pandas as pd"
   ]
  },
  {
   "cell_type": "code",
   "execution_count": 20,
   "metadata": {},
   "outputs": [
    {
     "data": {
      "text/html": [
       "<div>\n",
       "<style scoped>\n",
       "    .dataframe tbody tr th:only-of-type {\n",
       "        vertical-align: middle;\n",
       "    }\n",
       "\n",
       "    .dataframe tbody tr th {\n",
       "        vertical-align: top;\n",
       "    }\n",
       "\n",
       "    .dataframe thead th {\n",
       "        text-align: right;\n",
       "    }\n",
       "</style>\n",
       "<table border=\"1\" class=\"dataframe\">\n",
       "  <thead>\n",
       "    <tr style=\"text-align: right;\">\n",
       "      <th></th>\n",
       "      <th>sessionId</th>\n",
       "      <th>userId</th>\n",
       "      <th>timeframe</th>\n",
       "      <th>eventdate</th>\n",
       "      <th>ordernumber</th>\n",
       "      <th>itemId</th>\n",
       "    </tr>\n",
       "  </thead>\n",
       "  <tbody>\n",
       "    <tr>\n",
       "      <th>0</th>\n",
       "      <td>150</td>\n",
       "      <td>18278.0</td>\n",
       "      <td>17100868</td>\n",
       "      <td>2016-05-06</td>\n",
       "      <td>16421</td>\n",
       "      <td>25911</td>\n",
       "    </tr>\n",
       "    <tr>\n",
       "      <th>1</th>\n",
       "      <td>151</td>\n",
       "      <td>NaN</td>\n",
       "      <td>6454547</td>\n",
       "      <td>2016-05-06</td>\n",
       "      <td>16290</td>\n",
       "      <td>175874</td>\n",
       "    </tr>\n",
       "    <tr>\n",
       "      <th>2</th>\n",
       "      <td>156</td>\n",
       "      <td>7.0</td>\n",
       "      <td>1721689387</td>\n",
       "      <td>2016-05-27</td>\n",
       "      <td>21173</td>\n",
       "      <td>35324</td>\n",
       "    </tr>\n",
       "    <tr>\n",
       "      <th>3</th>\n",
       "      <td>179</td>\n",
       "      <td>NaN</td>\n",
       "      <td>343001</td>\n",
       "      <td>2016-05-09</td>\n",
       "      <td>16924</td>\n",
       "      <td>31233</td>\n",
       "    </tr>\n",
       "    <tr>\n",
       "      <th>4</th>\n",
       "      <td>246</td>\n",
       "      <td>34.0</td>\n",
       "      <td>2311046</td>\n",
       "      <td>2016-05-09</td>\n",
       "      <td>16936</td>\n",
       "      <td>34677</td>\n",
       "    </tr>\n",
       "  </tbody>\n",
       "</table>\n",
       "</div>"
      ],
      "text/plain": [
       "   sessionId   userId   timeframe   eventdate  ordernumber  itemId\n",
       "0        150  18278.0    17100868  2016-05-06        16421   25911\n",
       "1        151      NaN     6454547  2016-05-06        16290  175874\n",
       "2        156      7.0  1721689387  2016-05-27        21173   35324\n",
       "3        179      NaN      343001  2016-05-09        16924   31233\n",
       "4        246     34.0     2311046  2016-05-09        16936   34677"
      ]
     },
     "execution_count": 20,
     "metadata": {},
     "output_type": "execute_result"
    }
   ],
   "source": [
    "# Загрузка данных\n",
    "data  = pd.read_csv('train-purchases.csv', sep=';')\n",
    "data .head()"
   ]
  },
  {
   "cell_type": "code",
   "execution_count": 21,
   "metadata": {},
   "outputs": [
    {
     "data": {
      "text/plain": [
       "(18025, 6)"
      ]
     },
     "execution_count": 21,
     "metadata": {},
     "output_type": "execute_result"
    }
   ],
   "source": [
    "data.shape"
   ]
  },
  {
   "cell_type": "code",
   "execution_count": 22,
   "metadata": {},
   "outputs": [
    {
     "data": {
      "text/plain": [
       "(17997, 6)"
      ]
     },
     "execution_count": 22,
     "metadata": {},
     "output_type": "execute_result"
    }
   ],
   "source": [
    "# Удаление дубликатов\n",
    "data = data.drop_duplicates()\n",
    "data.shape"
   ]
  },
  {
   "cell_type": "code",
   "execution_count": 23,
   "metadata": {},
   "outputs": [
    {
     "data": {
      "text/html": [
       "<div>\n",
       "<style scoped>\n",
       "    .dataframe tbody tr th:only-of-type {\n",
       "        vertical-align: middle;\n",
       "    }\n",
       "\n",
       "    .dataframe tbody tr th {\n",
       "        vertical-align: top;\n",
       "    }\n",
       "\n",
       "    .dataframe thead th {\n",
       "        text-align: right;\n",
       "    }\n",
       "</style>\n",
       "<table border=\"1\" class=\"dataframe\">\n",
       "  <thead>\n",
       "    <tr style=\"text-align: right;\">\n",
       "      <th></th>\n",
       "      <th>itemId</th>\n",
       "      <th>popularity</th>\n",
       "    </tr>\n",
       "  </thead>\n",
       "  <tbody>\n",
       "    <tr>\n",
       "      <th>1883</th>\n",
       "      <td>11338</td>\n",
       "      <td>28</td>\n",
       "    </tr>\n",
       "    <tr>\n",
       "      <th>1806</th>\n",
       "      <td>10858</td>\n",
       "      <td>28</td>\n",
       "    </tr>\n",
       "    <tr>\n",
       "      <th>6772</th>\n",
       "      <td>79141</td>\n",
       "      <td>22</td>\n",
       "    </tr>\n",
       "    <tr>\n",
       "      <th>44</th>\n",
       "      <td>332</td>\n",
       "      <td>20</td>\n",
       "    </tr>\n",
       "    <tr>\n",
       "      <th>437</th>\n",
       "      <td>2809</td>\n",
       "      <td>20</td>\n",
       "    </tr>\n",
       "  </tbody>\n",
       "</table>\n",
       "</div>"
      ],
      "text/plain": [
       "      itemId  popularity\n",
       "1883   11338          28\n",
       "1806   10858          28\n",
       "6772   79141          22\n",
       "44       332          20\n",
       "437     2809          20"
      ]
     },
     "execution_count": 23,
     "metadata": {},
     "output_type": "execute_result"
    }
   ],
   "source": [
    "# Рассчет популярности товаров (на основании встречаемости itemId в данных)\n",
    "item_popularity = data.groupby('itemId').size().reset_index(name='popularity')\n",
    "\n",
    "# Сортировка товаров по популярности\n",
    "item_popularity = item_popularity.sort_values(by='popularity', ascending=False)\n",
    "item_popularity.head()"
   ]
  },
  {
   "cell_type": "code",
   "execution_count": 24,
   "metadata": {},
   "outputs": [],
   "source": [
    "# Создаем рекомендации для каждого товара\n",
    "N = 5  # Количество товаров для рекомендации\n",
    "recommendations = []\n",
    "\n",
    "for item_id in item_popularity['itemId']:\n",
    "    top_items = item_popularity[item_popularity['itemId'] != item_id].head(N)\n",
    "    for _, row in top_items.iterrows():\n",
    "        recommendations.append([item_id, row['itemId'], row['popularity']])"
   ]
  },
  {
   "cell_type": "code",
   "execution_count": 25,
   "metadata": {},
   "outputs": [],
   "source": [
    "# Преобразуем рекомендации в DataFrame\n",
    "recommendations_df = pd.DataFrame(recommendations, columns=['seed_item_id', 'recommended_product_id', 'score'])"
   ]
  },
  {
   "cell_type": "code",
   "execution_count": 26,
   "metadata": {},
   "outputs": [],
   "source": [
    "# Сохраняем результат в CSV\n",
    "recommendations_df.to_csv('recommendations.csv', index=False)"
   ]
  },
  {
   "cell_type": "code",
   "execution_count": 27,
   "metadata": {},
   "outputs": [
    {
     "data": {
      "text/html": [
       "<div>\n",
       "<style scoped>\n",
       "    .dataframe tbody tr th:only-of-type {\n",
       "        vertical-align: middle;\n",
       "    }\n",
       "\n",
       "    .dataframe tbody tr th {\n",
       "        vertical-align: top;\n",
       "    }\n",
       "\n",
       "    .dataframe thead th {\n",
       "        text-align: right;\n",
       "    }\n",
       "</style>\n",
       "<table border=\"1\" class=\"dataframe\">\n",
       "  <thead>\n",
       "    <tr style=\"text-align: right;\">\n",
       "      <th></th>\n",
       "      <th>seed_item_id</th>\n",
       "      <th>recommended_product_id</th>\n",
       "      <th>score</th>\n",
       "    </tr>\n",
       "  </thead>\n",
       "  <tbody>\n",
       "    <tr>\n",
       "      <th>0</th>\n",
       "      <td>11338</td>\n",
       "      <td>10858</td>\n",
       "      <td>28</td>\n",
       "    </tr>\n",
       "    <tr>\n",
       "      <th>1</th>\n",
       "      <td>11338</td>\n",
       "      <td>79141</td>\n",
       "      <td>22</td>\n",
       "    </tr>\n",
       "    <tr>\n",
       "      <th>2</th>\n",
       "      <td>11338</td>\n",
       "      <td>332</td>\n",
       "      <td>20</td>\n",
       "    </tr>\n",
       "    <tr>\n",
       "      <th>3</th>\n",
       "      <td>11338</td>\n",
       "      <td>2809</td>\n",
       "      <td>20</td>\n",
       "    </tr>\n",
       "    <tr>\n",
       "      <th>4</th>\n",
       "      <td>11338</td>\n",
       "      <td>72786</td>\n",
       "      <td>18</td>\n",
       "    </tr>\n",
       "  </tbody>\n",
       "</table>\n",
       "</div>"
      ],
      "text/plain": [
       "   seed_item_id  recommended_product_id  score\n",
       "0         11338                   10858     28\n",
       "1         11338                   79141     22\n",
       "2         11338                     332     20\n",
       "3         11338                    2809     20\n",
       "4         11338                   72786     18"
      ]
     },
     "execution_count": 27,
     "metadata": {},
     "output_type": "execute_result"
    }
   ],
   "source": [
    "# Проверим получившийся файл\n",
    "recs  = pd.read_csv('recommendations.csv')\n",
    "recs .head()"
   ]
  }
 ],
 "metadata": {
  "kernelspec": {
   "display_name": "Python 3",
   "language": "python",
   "name": "python3"
  },
  "language_info": {
   "codemirror_mode": {
    "name": "ipython",
    "version": 3
   },
   "file_extension": ".py",
   "mimetype": "text/x-python",
   "name": "python",
   "nbconvert_exporter": "python",
   "pygments_lexer": "ipython3",
   "version": "3.12.4"
  }
 },
 "nbformat": 4,
 "nbformat_minor": 2
}
